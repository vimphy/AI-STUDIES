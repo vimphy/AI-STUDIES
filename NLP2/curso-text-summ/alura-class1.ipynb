{
 "cells": [
  {
   "cell_type": "markdown",
   "id": "3fd1de56",
   "metadata": {},
   "source": [
    "1. Curso voltado para tecnicas de sumarização de texto com hugging face e outras tecnicas"
   ]
  },
  {
   "cell_type": "markdown",
   "id": "839c78d1",
   "metadata": {},
   "source": [
    "Hugging face disponibilza bibliotecas focadas em NLP, sendo algumas delas focadas em sumariacao e traducao de textos. \n",
    "O curso propoe o uso da biblioteca gradio, como principal facilitados para o implementação desse tipo de solução   "
   ]
  },
  {
   "cell_type": "markdown",
   "id": "bf389827",
   "metadata": {},
   "source": [
    "Começando a resumir textos."
   ]
  },
  {
   "cell_type": "code",
   "execution_count": 3,
   "id": "45cea3b8",
   "metadata": {},
   "outputs": [
    {
     "name": "stderr",
     "output_type": "stream",
     "text": [
      "C:\\Users\\vimph\\AppData\\Local\\Packages\\PythonSoftwareFoundation.Python.3.11_qbz5n2kfra8p0\\LocalCache\\local-packages\\Python311\\site-packages\\tqdm\\auto.py:21: TqdmWarning: IProgress not found. Please update jupyter and ipywidgets. See https://ipywidgets.readthedocs.io/en/stable/user_install.html\n",
      "  from .autonotebook import tqdm as notebook_tqdm\n"
     ]
    }
   ],
   "source": [
    "from transformers import pipeline\n",
    "import torch"
   ]
  },
  {
   "cell_type": "code",
   "execution_count": 6,
   "id": "efef8197",
   "metadata": {},
   "outputs": [
    {
     "name": "stdout",
     "output_type": "stream",
     "text": [
      "The autoreload extension is already loaded. To reload it, use:\n",
      "  %reload_ext autoreload\n"
     ]
    }
   ],
   "source": [
    "%load_ext autoreload\n",
    "%autoreload 2\n",
    "%reload_ext autoreload"
   ]
  },
  {
   "cell_type": "markdown",
   "id": "fe60cab3",
   "metadata": {},
   "source": [
    "A função pipeline importada será possivel acessar modelos pre treinados do hugging face."
   ]
  },
  {
   "cell_type": "code",
   "execution_count": 8,
   "id": "59dca9c5",
   "metadata": {},
   "outputs": [
    {
     "name": "stderr",
     "output_type": "stream",
     "text": [
      "C:\\Users\\vimph\\AppData\\Local\\Packages\\PythonSoftwareFoundation.Python.3.11_qbz5n2kfra8p0\\LocalCache\\local-packages\\Python311\\site-packages\\huggingface_hub\\file_download.py:143: UserWarning: `huggingface_hub` cache-system uses symlinks by default to efficiently store duplicated files but your machine does not support them in C:\\Users\\vimph\\.cache\\huggingface\\hub\\models--sshleifer--distilbart-cnn-12-6. Caching files will still work but in a degraded version that might require more space on your disk. This warning can be disabled by setting the `HF_HUB_DISABLE_SYMLINKS_WARNING` environment variable. For more details, see https://huggingface.co/docs/huggingface_hub/how-to-cache#limitations.\n",
      "To support symlinks on Windows, you either need to activate Developer Mode or to run Python as an administrator. In order to activate developer mode, see this article: https://docs.microsoft.com/en-us/windows/apps/get-started/enable-your-device-for-development\n",
      "  warnings.warn(message)\n",
      "Device set to use cpu\n"
     ]
    }
   ],
   "source": [
    "\n",
    "# Define o pipeline de resumidor de texto com o modelo pré-treinado\n",
    "# O modelo \"sshleifer/distilbart-cnn-12-6\" é um modelo de resumo de texto\n",
    "# que foi treinado no conjunto de dados CNN/Daily Mail.\n",
    "summarizer = pipeline(\"summarization\", model=\"sshleifer/distilbart-cnn-12-6\")\n"
   ]
  },
  {
   "cell_type": "code",
   "execution_count": 9,
   "id": "4566d3ab",
   "metadata": {},
   "outputs": [],
   "source": [
    "texto_completo = \"\"\"The storyteller folds her slender hands - both pairs - and speaks. “It happened an age ago. But when I recall, I see it true.” So begins the tale of the Shattering, a devastating war between the children of Marika, Demigods of the Lands Between. One grim night in the depths of winter, a flock of unknown assassins stole across the Lands Between. \n",
    "They struck at the heart of the Golden Order, the God-Queen Marika's divine rule, and assassinated her most trusted kin. The assassins were led by Rykard, Lord of Blasphemy, and Morgott, the Omen King, who had long been a thorn in the side of the God-Queen. Their attack was swift and brutal, leaving a trail of death and destruction in their wake.\n",
    "In a coetaneous attack, this foul covenant snuffed out the lives of many of the God-Queen's kin throughout the empire, too numerous and too scattered for her godly protection to save. The assassins' targets were multifold, but none was as devastating a loss to the Eternal Queen as that of Godwyn the Golden. After his death, the Elden Ring was somehow shattered, and the order of the world broke with it.\n",
    "Out of this chaos came war. Open, bitter war, pitting blood against blood and kin against kin. The conflict broke a vast and prosperous empire into brittle fragments. No single side could find enough purchase to maintain a decisive victory, even when fueled by the power of a Great Rune.\n",
    "The battle of General Radahn against Malenia the Severed illustrated that neither strength nor skill alone would be enough to take control of the entirety of the lands Marika had united. And so, the Lands Between are no longer gripped by open war, but caught in an uneasy stalemate that seems impossible to resolve. “Unless of course,” the storyteller says, a coy smile on both her lips, “thou shouldst take the crown?” \n",
    "The storyteller's smile widens, and she leans forward. “But I am getting ahead of myself. Let us begin at the beginning.”\"\"\""
   ]
  },
  {
   "cell_type": "code",
   "execution_count": 10,
   "id": "505d7104",
   "metadata": {},
   "outputs": [],
   "source": [
    "# Resumindo o texto\n",
    "# O parâmetro max_length define o tamanho máximo do resumo\n",
    "# O parâmetro min_length define o tamanho mínimo do resumo\n",
    "# O parâmetro do_sample=False garante que o resumo seja determinístico\n",
    "resumo = summarizer(texto_completo, max_length=130, min_length=30, do_sample=False)"
   ]
  },
  {
   "cell_type": "code",
   "execution_count": 11,
   "id": "531f0505",
   "metadata": {},
   "outputs": [
    {
     "data": {
      "text/plain": [
       "[{'summary_text': \" A flock of unknown assassins struck at the heart of the Golden Order, the God-Queen Marika's divine rule . The assassins were led by Rykard, Lord of Blasphemy, and Morgott, the Omen King . After his death, the Elden Ring was somehow shattered, and the order of the world broke .\"}]"
      ]
     },
     "execution_count": 11,
     "metadata": {},
     "output_type": "execute_result"
    }
   ],
   "source": [
    "resumo"
   ]
  },
  {
   "cell_type": "code",
   "execution_count": 12,
   "id": "aea04809",
   "metadata": {},
   "outputs": [
    {
     "name": "stdout",
     "output_type": "stream",
     "text": [
      " A flock of unknown assassins struck at the heart of the Golden Order, the God-Queen Marika's divine rule . The assassins were led by Rykard, Lord of Blasphemy, and Morgott, the Omen King . After his death, the Elden Ring was somehow shattered, and the order of the world broke .\n"
     ]
    }
   ],
   "source": [
    "print(resumo[0]['summary_text'])  # Exibe o resumo gerado\n",
    "# O resumo gerado é exibido na saída padrão e pode ser utilizado para análise ou visualização posterior."
   ]
  },
  {
   "cell_type": "code",
   "execution_count": 13,
   "id": "4859ad6d",
   "metadata": {},
   "outputs": [],
   "source": [
    "texto_completo_ptbr = \"\"\"\n",
    "Tudo começou em 2003, quando o Sidia era uma pequena unidade localizada no Distrito Industrial de Manaus. Já naquela época, Stakeholders viram no instituto um grande potencial de inovação e talentos com expertise para assumir desafios ousados.\n",
    "Mais projetos chegaram com a promessa de romper com o tradicional e criar uma cultura tecnológica disruptiva bem no meio da Amazônia, aumentando, assim, suas competências técnicas.\n",
    "Os desafios foram aceitos e entregues com base em estudos e pesquisas científicas, seguindo todos os padrões internacionais de qualidade.\n",
    "Atualmente, somos um dos maiores institutos de PD&I do país e responsável por implementar soluções tecnológicas inovadoras para o mercado local e global. \n",
    "Nos tornamos referência no desenvolvimento de tecnologias focadas em 5G, IoT, Inteligência Artificial, VR/AR, Softwares Embarcados, Automação Industrial, Visão Computacional, entre outros. \n",
    "Além disso, temos os equipamentos mais modernos do mercado que nos tornam um diferencial competitivo no mundo. \n",
    "Com duas sedes em Manaus (AM), uma em Porto Velho (RO) e uma em São Paulo (SP), o time do Sidia é formado por mais de 1.000 profissionais engajados com a inovação, \n",
    "composto por especialistas de diferentes formações intelectuais e culturais, além de infraestrutura de ponta. Atendemos aos setores de Eletroeletrônicos, Saúde, Varejo,\n",
    " Educação, Mineração, Óleo e Gás, Utilities, Entretenimento, Indústria e outros.\n",
    "\"\"\""
   ]
  },
  {
   "cell_type": "code",
   "execution_count": 14,
   "id": "e513b3af",
   "metadata": {},
   "outputs": [
    {
     "name": "stdout",
     "output_type": "stream",
     "text": [
      " The time do Sidia is one of the maiores institutos de PD&I do Brazil, responsável por implementar soluções tecnológicas inovadoras for o mercado local e global . Não tornamos referência no desenvolvimento de tecnologias focadas em 5G, VR/AR, IoT, Inteligênia Artificial, Softwares Embarcados .\n"
     ]
    }
   ],
   "source": [
    "resumo = summarizer(texto_completo_ptbr, max_length=130, min_length=30, do_sample=False)\n",
    "print(resumo[0]['summary_text'])  # Exibe o resumo gerado\n",
    "# O resumo gerado é exibido na saída padrão e pode ser utilizado para análise ou visual ização posterior."
   ]
  },
  {
   "cell_type": "markdown",
   "id": "dc7ca760",
   "metadata": {},
   "source": [
    "2. Aprendendo a traduçao de textos com hugging face"
   ]
  },
  {
   "cell_type": "code",
   "execution_count": 15,
   "id": "44d53122",
   "metadata": {},
   "outputs": [
    {
     "name": "stderr",
     "output_type": "stream",
     "text": [
      "No model was supplied, defaulted to google-t5/t5-base and revision a9723ea (https://huggingface.co/google-t5/t5-base).\n",
      "Using a pipeline without specifying a model name and revision in production is not recommended.\n",
      "C:\\Users\\vimph\\AppData\\Local\\Packages\\PythonSoftwareFoundation.Python.3.11_qbz5n2kfra8p0\\LocalCache\\local-packages\\Python311\\site-packages\\huggingface_hub\\file_download.py:143: UserWarning: `huggingface_hub` cache-system uses symlinks by default to efficiently store duplicated files but your machine does not support them in C:\\Users\\vimph\\.cache\\huggingface\\hub\\models--google-t5--t5-base. Caching files will still work but in a degraded version that might require more space on your disk. This warning can be disabled by setting the `HF_HUB_DISABLE_SYMLINKS_WARNING` environment variable. For more details, see https://huggingface.co/docs/huggingface_hub/how-to-cache#limitations.\n",
      "To support symlinks on Windows, you either need to activate Developer Mode or to run Python as an administrator. In order to activate developer mode, see this article: https://docs.microsoft.com/en-us/windows/apps/get-started/enable-your-device-for-development\n",
      "  warnings.warn(message)\n",
      "Xet Storage is enabled for this repo, but the 'hf_xet' package is not installed. Falling back to regular HTTP download. For better performance, install the package with: `pip install huggingface_hub[hf_xet]` or `pip install hf_xet`\n",
      "Device set to use cpu\n"
     ]
    }
   ],
   "source": [
    "tradutor_texto = pipeline(\"translation_en_to_fr\")\n"
   ]
  },
  {
   "cell_type": "code",
   "execution_count": 17,
   "id": "ec348e0f",
   "metadata": {},
   "outputs": [],
   "source": [
    "texto_ingles = \"\"\"\n",
    "The Ultimate Fighting Championship (UFC) is an American mixed martial arts (MMA) promotion company, considered the largest in the world. \n",
    "It hosts numerous events worldwide, featuring fighters from various weight classes competing under the Unified Rules of Mixed Martial Arts. \n",
    "The UFC is owned by TKO Group Holdings, which is in turn majority owned by Endeavor Group Holdings. \n",
    "\"\"\""
   ]
  },
  {
   "cell_type": "code",
   "execution_count": 18,
   "id": "6d102b53",
   "metadata": {},
   "outputs": [
    {
     "name": "stderr",
     "output_type": "stream",
     "text": [
      "Both `max_new_tokens` (=256) and `max_length`(=400) seem to have been set. `max_new_tokens` will take precedence. Please refer to the documentation for more information. (https://huggingface.co/docs/transformers/main/en/main_classes/text_generation)\n"
     ]
    },
    {
     "name": "stdout",
     "output_type": "stream",
     "text": [
      "Le Ultimate Fighting Championship (UFC) est une entreprise américaine de promotion des arts martiaux mixtes (MMA), considérée comme la plus importante au monde. Il accueille de nombreuses manifestations dans le monde entier, mettant en compétition des combattants de différentes classes de poids dans le cadre des Règles Unifiées des Arts Martials Mixtes. L'UFC appartient à TKO Group Holdings, qui est à son tour la majorité de Endeavor Group Holdings.\n"
     ]
    }
   ],
   "source": [
    "traducao = tradutor_texto(texto_ingles, max_length=400, min_length=100)\n",
    "print(traducao[0]['translation_text'])  \n",
    "\n",
    "# Exibe a tradução gerada\n",
    "# A tradução gerada é exibida na saída padrão e pode ser utilizada para análise ou visualização posterior.\n",
    "# O modelo de tradução utilizado é o \"Helsinki-NLP/opus-mt-en-fr\", que é um modelo de tradução treinado pela equipe Helsinki-NLP.\n",
    "# O modelo é capaz de traduzir textos do inglês para o francês, e pode ser utilizado para traduzir textos de outros idiomas também, dependendo do modelo utilizado.\n",
    "# O pipeline de tradução é uma ferramenta poderosa para traduzir textos de forma rápida e eficiente."
   ]
  },
  {
   "cell_type": "markdown",
   "id": "9287bfdf",
   "metadata": {},
   "source": [
    "Le Ultimate Fighting Championship (UFC) est une entreprise américaine de promotion des arts martiaux mixtes (MMA), considérée comme la plus importante au monde. Il accueille de nombreuses manifestations dans le monde entier, mettant en compétition des combattants de différentes classes de poids dans le cadre des Règles Unifiées des Arts Martials Mixtes. L'UFC appartient à TKO Group Holdings, qui est à son tour la majorité de Endeavor Group Holdings."
   ]
  },
  {
   "cell_type": "markdown",
   "id": "11d7be9f",
   "metadata": {},
   "source": [
    " Aula 2: Resumindo Textos\n",
    " "
   ]
  },
  {
   "cell_type": "markdown",
   "id": "77a9d730",
   "metadata": {},
   "source": [
    "\n",
    " Escolhendo um modelo"
   ]
  },
  {
   "cell_type": "code",
   "execution_count": 49,
   "id": "c21ffae9",
   "metadata": {},
   "outputs": [],
   "source": [
    "from transformers import pipeline"
   ]
  },
  {
   "cell_type": "code",
   "execution_count": 50,
   "id": "4acda700",
   "metadata": {},
   "outputs": [],
   "source": [
    "modelo_resumidor = \"facebook/bart-large-cnn\""
   ]
  },
  {
   "cell_type": "code",
   "execution_count": 51,
   "id": "5eae4532",
   "metadata": {},
   "outputs": [
    {
     "name": "stderr",
     "output_type": "stream",
     "text": [
      "Device set to use cpu\n"
     ]
    }
   ],
   "source": [
    "resumidor_eng = pipeline(\"summarization\", model= modelo_resumidor)"
   ]
  },
  {
   "cell_type": "code",
   "execution_count": 5,
   "id": "f814e62d",
   "metadata": {},
   "outputs": [],
   "source": [
    "texto_lore = \"\"\"\n",
    "The Wylder is not native to the Lands Between. He was beckoned to it by an item in his person.\n",
    "An earring, which leads him to joining the Roundtable Hold.\n",
    "At first, its significance is lost to the Wylder. Like most Nightfarers, memories are fleeting with the souls held by the Roundtable hold. \n",
    "As the Wylder interacts with the other Nightfarers and the Iron Menial, they would eventually find an earring from Iron Menial that was supposed to be for Duchess. \n",
    "Wylder, taking the earring that was intended for Duchess and observing it with the earring that he has, will be able to figure out that the duchess is his sister.\n",
    "With his entire clan wiped out, she is his only family left. This creates conflict for Wylder as the objective of the roundtable hold is to defeat the nightlord, \n",
    "in which with its defeat will also mean the end of the duchess. Not wanting to have a hand in ending the life of the Duchess, the Iron Menial provides a solution. \n",
    "They provide the Wylder a Silver Tear.\n",
    "With the Silver Tear, the Wylder can take the place of Nightlord after the defeat of the current one, ensuring that the duchess does not die after their objective is fulfilled. \n",
    "With this purpose in mind, after Wylder defeats the Nightlord, the Wylder's Soul takes its place, continues the night and thus prevents the end of the Roundtable Hold and the death of the Duchess.\n",
    "\"\"\""
   ]
  },
  {
   "cell_type": "code",
   "execution_count": 6,
   "id": "0976fc01",
   "metadata": {},
   "outputs": [],
   "source": [
    "resumo = resumidor_eng(texto_lore, max_length=70, min_length=30, do_sample=False)"
   ]
  },
  {
   "cell_type": "code",
   "execution_count": 7,
   "id": "8fe84548",
   "metadata": {},
   "outputs": [
    {
     "name": "stdout",
     "output_type": "stream",
     "text": [
      "The Wylder is not native to the Lands Between. He was beckoned to it by an earring, which leads him to joining the Roundtable Hold. With his entire clan wiped out, she is his only family left.\n"
     ]
    }
   ],
   "source": [
    "print(resumo[0]['summary_text'])  # Exibe o resumo gerado"
   ]
  },
  {
   "cell_type": "markdown",
   "id": "e0fc5c04",
   "metadata": {},
   "source": [
    "Aula 3: Usando um texto maior"
   ]
  },
  {
   "cell_type": "code",
   "execution_count": 44,
   "id": "f333435a",
   "metadata": {},
   "outputs": [],
   "source": [
    "big_texto = \"\"\"\n",
    "Microsoft Power BI is a data visualization platform used primarily for business intelligence purposes. Power BI stands for Power Business Intelligence and refers to a collection of \n",
    "software services, tools, and connectors that help you transform data from multiple sources into actionable insights.\n",
    "\n",
    "Designed for business professionals with varying levels of data knowledge, Power BI’s dashboard can report and visualize data in a wide range of styles, \n",
    "including graphs, maps, charts, scatter plots, and more. Power BI's \"AI Insights\" functionality, meanwhile, uses artificial intelligence to find insights within data sets for users.\n",
    "\n",
    "Power BI itself is composed of several interrelated applications:\n",
    "Power BI Desktop: A desktop application used to create interactive reports with visual analytics.\n",
    "Power BI Pro: Collaborate on interactive reports throughout your organization.\n",
    "Power BI Premium: Unify self-service and enterprise BI.\n",
    "Power BI Mobile: Access business intelligence data from any device.\n",
    "Power BI Embedded: White-label Power BI to provide customer-facing dashboards and analytics in your own apps.\n",
    "Power BI Report Server: On-premises solution included in Premium; can be moved to the cloud.\n",
    "\n",
    "While some of these applications are free to use, paid subscriptions to the pro and premium versions provide greater analytics capabilities. \n",
    "Power BI is also a part of Microsoft’s Power Platform, which includes Power Apps, Power Pages, Power Automate, and Power Virtual Agents. Created as “low-code tools,” \n",
    "these applications help businesses analyze and visualize data, design business solutions, automate processes, and create no-code chatbots. \n",
    "\"\"\"\n",
    "\n",
    " "
   ]
  },
  {
   "cell_type": "code",
   "execution_count": 45,
   "id": "3769b857",
   "metadata": {},
   "outputs": [],
   "source": [
    "def carregar_modelo(nome_modelo):\n",
    "    resumidor = pipeline(\"summarization\", model=nome_modelo)\n",
    "    return resumidor\n"
   ]
  },
  {
   "cell_type": "code",
   "execution_count": 46,
   "id": "e431d094",
   "metadata": {},
   "outputs": [],
   "source": [
    "def resumir_texto(texto):\n",
    "    resumir_texto = carregar_modelo(\"facebook/bart-large-cnn\")\n",
    "    resumo = resumir_texto(texto, max_length=200, min_length=100)\n",
    "    resumo_texto = resumo[0]['summary_text']\n",
    "    \n",
    "    return resumo_texto"
   ]
  },
  {
   "cell_type": "code",
   "execution_count": 47,
   "id": "3de4122a",
   "metadata": {},
   "outputs": [
    {
     "name": "stderr",
     "output_type": "stream",
     "text": [
      "Device set to use cpu\n"
     ]
    },
    {
     "data": {
      "text/plain": [
       "\"Microsoft Power BI is a data visualization platform used primarily for business intelligence purposes. Power BI’s dashboard can report and visualize data in a wide range of styles, including graphs, maps, charts, scatter plots, and more. Paid subscriptions to the pro and premium versions provide greater analytics capabilities.Power BI is also a part of Microsoft's Power Platform, which includes Power Apps, Power Pages, Power Automate, and Power Virtual Agents. These applications help businesses analyze and visualization data, design business solutions, automate processes, and create no-code chatbots.\""
      ]
     },
     "execution_count": 47,
     "metadata": {},
     "output_type": "execute_result"
    }
   ],
   "source": [
    "resumir_texto(big_texto)"
   ]
  },
  {
   "cell_type": "markdown",
   "id": "610ece2e",
   "metadata": {},
   "source": [
    "**RESUMO FINAL:**\n",
    "\n",
    "\"Microsoft Power BI is a data visualization platform used primarily for business intelligence purposes. Power BI’s dashboard can report and visualize data in a wide range of styles, including graphs, maps, charts, scatter plots, and more. Paid subscriptions to the pro and premium versions provide greater analytics capabilities.Power BI is also a part of Microsoft's Power Platform, which includes Power Apps, Power Pages, Power Automate, and Power Virtual Agents. These applications help businesses analyze and visualization data, design business solutions, automate processes, and create no-code chatbots.\""
   ]
  },
  {
   "cell_type": "markdown",
   "id": "9cf1b84b",
   "metadata": {},
   "source": []
  },
  {
   "cell_type": "markdown",
   "id": "9546b5f6",
   "metadata": {},
   "source": [
    "Aula 3\n",
    "\n",
    "Escolhendo modelos, explorando outras linguagens, unindo modelos"
   ]
  },
  {
   "cell_type": "code",
   "execution_count": 19,
   "id": "d80ffb3b",
   "metadata": {},
   "outputs": [],
   "source": [
    "from transformers import pipeline \n",
    "\n",
    "# Carregando modelo de tradução\n",
    "modelo_traducao = \"facebook/nllb-200-distilled-600M\""
   ]
  },
  {
   "cell_type": "code",
   "execution_count": 20,
   "id": "22d98281",
   "metadata": {},
   "outputs": [
    {
     "name": "stderr",
     "output_type": "stream",
     "text": [
      "Device set to use cpu\n"
     ]
    }
   ],
   "source": [
    "# Criando o pipeline de tradução\n",
    "tradutor = pipeline(\"translation\", model=modelo_traducao, src_lang=\"eng_latn\", tgt_lang=\"por_latn\")\n",
    "\n"
   ]
  },
  {
   "cell_type": "code",
   "execution_count": 21,
   "id": "bd837402",
   "metadata": {},
   "outputs": [],
   "source": [
    "# Texto a ser traduzido\n",
    "\n",
    "texto_ingles_pt = \"\"\" \n",
    "Mega Man known as Rockman in Japan, is a video game franchise developed and published by Capcom, featuring the protagonist of the same name. \n",
    "The original game was released for the Nintendo Entertainment System in 1987, and spawned a franchise that expanded to over 50 games on multiple systems.\n",
    "\"\"\""
   ]
  },
  {
   "cell_type": "code",
   "execution_count": 22,
   "id": "8562018b",
   "metadata": {},
   "outputs": [
    {
     "name": "stdout",
     "output_type": "stream",
     "text": [
      "Mega Man, known as Rockman in Japan, is a video game franchise developed and published by Capcom, featuring the protagonist of the same name.The original game was released for the Nintendo Entertainment System in 1987, and spawned a franchise that expanded to over 50 games on multiple systems. \n"
     ]
    }
   ],
   "source": [
    "# Usando o pipeline de tradução para traduzir o texto\n",
    "traducao_texto = tradutor(texto_ingles_pt, max_length=200)\n",
    "print(traducao_texto[0]['translation_text'])  # Exibe a tradução gerada"
   ]
  },
  {
   "cell_type": "markdown",
   "id": "7639fe32",
   "metadata": {},
   "source": [
    " Explorando outras linguagens"
   ]
  },
  {
   "cell_type": "code",
   "execution_count": 29,
   "id": "fe9b74d2",
   "metadata": {},
   "outputs": [],
   "source": [
    "# Função para carregar o modelo de tradução com parâmetros de origem e destino\n",
    "def carregar_modelo_trad(modelo_traducao, ling_origem, ling_final):\n",
    "    tradutor = pipeline(\"translation\", model=modelo_traducao, src_lang=ling_origem, tgt_lang=ling_final)\n",
    "    return tradutor"
   ]
  },
  {
   "cell_type": "code",
   "execution_count": 42,
   "id": "61cd7766",
   "metadata": {},
   "outputs": [],
   "source": [
    "# funcao para traduzir texto\n",
    "def traduzir_texto(texto, ling_origem, ling_final):\n",
    "    tradutor_texto = carregar_modelo_trad(\"facebook/nllb-200-distilled-600M\", ling_origem, ling_final)\n",
    "\n",
    "    traducao = tradutor_texto(texto, max_length=400)\n",
    "    traducao_texto = traducao[0]['translation_text']\n",
    "\n",
    "    return traducao_texto\n"
   ]
  },
  {
   "cell_type": "code",
   "execution_count": 43,
   "id": "02e8d69b",
   "metadata": {},
   "outputs": [],
   "source": [
    "texto_espanhol_pt = \"\"\" \n",
    "Capcom quería un rediseño en gráficos y control como el Mega hombre La serie pasó de la NES a la SNES, lo que impulsó la creación de la Mega Hombre X serie en 1993. \n",
    "Ambientada años en el futuro, esta serie sigue la historia del sucesor de Mega Man, X, un robot nuevo y avanzado que tiene total libre albedrío sobre sus acciones, \n",
    "pensamientos y sentimientos. \n",
    "\"\"\""
   ]
  },
  {
   "cell_type": "code",
   "execution_count": 44,
   "id": "e978b98a",
   "metadata": {},
   "outputs": [],
   "source": [
    "codigos_linguagens = {\n",
    "    \"Acehnese (Arabic script)\": \"ace_Arab\",\n",
    "    \"Acehnese (Latin script)\": \"ace_Latn\",\n",
    "    \"Mesopotamian Arabic\": \"acm_Arab\",\n",
    "    \"Ta’izzi-Adeni Arabic\": \"acq_Arab\",\n",
    "    \"Tunisian Arabic\": \"aeb_Arab\",\n",
    "    \"Afrikaans\": \"afr_Latn\",\n",
    "    \"South Levantine Arabic\": \"ajp_Arab\",\n",
    "    \"Akan\": \"aka_Latn\",\n",
    "    \"Amharic\": \"amh_Ethi\",\n",
    "    \"North Levantine Arabic\": \"apc_Arab\",\n",
    "    \"Modern Standard Arabic\": \"arb_Arab\",\n",
    "    \"Modern Standard Arabic (Romanized)\": \"arb_Latn\",\n",
    "    \"Najdi Arabic\": \"ars_Arab\",\n",
    "    \"Moroccan Arabic\": \"ary_Arab\",\n",
    "    \"Egyptian Arabic\": \"arz_Arab\",\n",
    "    \"Assamese\": \"asm_Beng\",\n",
    "    \"Asturian\": \"ast_Latn\",\n",
    "    \"Awadhi\": \"awa_Deva\",\n",
    "    \"Central Aymara\": \"ayr_Latn\",\n",
    "    \"South Azerbaijani\": \"azb_Arab\",\n",
    "    \"North Azerbaijani\": \"azj_Latn\",\n",
    "    \"Bashkir\": \"bak_Cyrl\",\n",
    "    \"Bambara\": \"bam_Latn\",\n",
    "    \"Balinese\": \"ban_Latn\",\n",
    "    \"Belarusian\": \"bel_Cyrl\",\n",
    "    \"Bemba\": \"bem_Latn\",\n",
    "    \"Bengali\": \"ben_Beng\",\n",
    "    \"Bhojpuri\": \"bho_Deva\",\n",
    "    \"Banjar (Arabic script)\": \"bjn_Arab\",\n",
    "    \"Banjar (Latin script)\": \"bjn_Latn\",\n",
    "    \"Standard Tibetan\": \"bod_Tibt\",\n",
    "    \"Bosnian\": \"bos_Latn\",\n",
    "    \"Buginese\": \"bug_Latn\",\n",
    "    \"Bulgarian\": \"bul_Cyrl\",\n",
    "    \"Catalan\": \"cat_Latn\",\n",
    "    \"Cebuano\": \"ceb_Latn\",\n",
    "    \"Czech\": \"ces_Latn\",\n",
    "    \"Chokwe\": \"cjk_Latn\",\n",
    "    \"Central Kurdish\": \"ckb_Arab\",\n",
    "    \"Crimean Tatar\": \"crh_Latn\",\n",
    "    \"Welsh\": \"cym_Latn\",\n",
    "    \"Danish\": \"dan_Latn\",\n",
    "    \"German\": \"deu_Latn\",\n",
    "    \"Southwestern Dinka\": \"dik_Latn\",\n",
    "    \"Dyula\": \"dyu_Latn\",\n",
    "    \"Dzongkha\": \"dzo_Tibt\",\n",
    "    \"Greek\": \"ell_Grek\",\n",
    "    \"English\": \"eng_Latn\",\n",
    "    \"Esperanto\": \"epo_Latn\",\n",
    "    \"Estonian\": \"est_Latn\",\n",
    "    \"Basque\": \"eus_Latn\",\n",
    "    \"Ewe\": \"ewe_Latn\",\n",
    "    \"Faroese\": \"fao_Latn\",\n",
    "    \"Fijian\": \"fij_Latn\",\n",
    "    \"Finnish\": \"fin_Latn\",\n",
    "    \"Fon\": \"fon_Latn\",\n",
    "    \"French\": \"fra_Latn\",\n",
    "    \"Friulian\": \"fur_Latn\",\n",
    "    \"Nigerian Fulfulde\": \"fuv_Latn\",\n",
    "    \"Scottish Gaelic\": \"gla_Latn\",\n",
    "    \"Irish\": \"gle_Latn\",\n",
    "    \"Galician\": \"glg_Latn\",\n",
    "    \"Guarani\": \"grn_Latn\",\n",
    "    \"Gujarati\": \"guj_Gujr\",\n",
    "    \"Haitian Creole\": \"hat_Latn\",\n",
    "    \"Hausa\": \"hau_Latn\",\n",
    "    \"Hebrew\": \"heb_Hebr\",\n",
    "    \"Hindi\": \"hin_Deva\",\n",
    "    \"Chhattisgarhi\": \"hne_Deva\",\n",
    "    \"Croatian\": \"hrv_Latn\",\n",
    "    \"Hungarian\": \"hun_Latn\",\n",
    "    \"Armenian\": \"hye_Armn\",\n",
    "    \"Igbo\": \"ibo_Latn\",\n",
    "    \"Ilocano\": \"ilo_Latn\",\n",
    "    \"Indonesian\": \"ind_Latn\",\n",
    "    \"Icelandic\": \"isl_Latn\",\n",
    "    \"Italian\": \"ita_Latn\",\n",
    "    \"Javanese\": \"jav_Latn\",\n",
    "    \"Japanese\": \"jpn_Jpan\",\n",
    "    \"Kabyle\": \"kab_Latn\",\n",
    "    \"Jingpho\": \"kac_Latn\",\n",
    "    \"Kamba\": \"kam_Latn\",\n",
    "    \"Kannada\": \"kan_Knda\",\n",
    "    \"Kashmiri (Arabic script)\": \"kas_Arab\",\n",
    "    \"Kashmiri (Devanagari script)\": \"kas_Deva\",\n",
    "    \"Georgian\": \"kat_Geor\",\n",
    "    \"Central Kanuri (Arabic script)\": \"knc_Arab\",\n",
    "    \"Central Kanuri (Latin script)\": \"knc_Latn\",\n",
    "    \"Kazakh\": \"kaz_Cyrl\",\n",
    "    \"Kabiyè\": \"kbp_Latn\",\n",
    "    \"Kabuverdianu\": \"kea_Latn\",\n",
    "    \"Khmer\": \"khm_Khmr\",\n",
    "    \"Kikuyu\": \"kik_Latn\",\n",
    "    \"Kinyarwanda\": \"kin_Latn\",\n",
    "    \"Kyrgyz\": \"kir_Cyrl\",\n",
    "    \"Kimbundu\": \"kmb_Latn\",\n",
    "    \"Northern Kurdish\": \"kmr_Latn\",\n",
    "    \"Kikongo\": \"kon_Latn\",\n",
    "    \"Korean\": \"kor_Hang\",\n",
    "    \"Lao\": \"lao_Laoo\",\n",
    "    \"Ligurian\": \"lij_Latn\",\n",
    "    \"Limburgish\": \"lim_Latn\",\n",
    "    \"Lingala\": \"lin_Latn\",\n",
    "    \"Lithuanian\": \"lit_Latn\",\n",
    "    \"Lombard\": \"lmo_Latn\",\n",
    "    \"Latgalian\": \"ltg_Latn\",\n",
    "    \"Luxembourgish\": \"ltz_Latn\",\n",
    "    \"Luba-Kasai\": \"lua_Latn\",\n",
    "    \"Ganda\": \"lug_Latn\",\n",
    "    \"Luo\": \"luo_Latn\",\n",
    "    \"Mizo\": \"lus_Latn\",\n",
    "    \"Standard Latvian\": \"lvs_Latn\",\n",
    "    \"Magahi\": \"mag_Deva\",\n",
    "    \"Maithili\": \"mai_Deva\",\n",
    "    \"Malayalam\": \"mal_Mlym\",\n",
    "    \"Marathi\": \"mar_Deva\",\n",
    "    \"Minangkabau (Arabic script)\": \"min_Arab\",\n",
    "    \"Minangkabau (Latin script)\": \"min_Latn\",\n",
    "    \"Macedonian\": \"mkd_Cyrl\",\n",
    "    \"Plateau Malagasy\": \"plt_Latn\",\n",
    "    \"Maltese\": \"mlt_Latn\",\n",
    "    \"Meitei (Bengali script)\": \"mni_Beng\",\n",
    "    \"Halh Mongolian\": \"khk_Cyrl\",\n",
    "    \"Mossi\": \"mos_Latn\",\n",
    "    \"Maori\": \"mri_Latn\",\n",
    "    \"Burmese\": \"mya_Mymr\",\n",
    "    \"Dutch\": \"nld_Latn\",\n",
    "    \"Norwegian Nynorsk\": \"nno_Latn\",\n",
    "    \"Norwegian Bokmål\": \"nob_Latn\",\n",
    "    \"Nepali\": \"npi_Deva\",\n",
    "    \"Northern Sotho\": \"nso_Latn\",\n",
    "    \"Nuer\": \"nus_Latn\",\n",
    "    \"Nyanja\": \"nya_Latn\",\n",
    "    \"Occitan\": \"oci_Latn\",\n",
    "    \"West Central Oromo\": \"gaz_Latn\",\n",
    "    \"Odia\": \"ory_Orya\",\n",
    "    \"Pangasinan\": \"pag_Latn\",\n",
    "    \"Eastern Panjabi\": \"pan_Guru\",\n",
    "    \"Papiamento\": \"pap_Latn\",\n",
    "    \"Western Persian\": \"pes_Arab\",\n",
    "    \"Polish\": \"pol_Latn\",\n",
    "    \"Portuguese\": \"por_Latn\",\n",
    "    \"Dari\": \"prs_Arab\",\n",
    "    \"Southern Pashto\": \"pbt_Arab\",\n",
    "    \"Ayacucho Quechua\": \"quy_Latn\",\n",
    "    \"Romanian\": \"ron_Latn\",\n",
    "    \"Rundi\": \"run_Latn\",\n",
    "    \"Russian\": \"rus_Cyrl\",\n",
    "    \"Sango\": \"sag_Latn\",\n",
    "    \"Sanskrit\": \"san_Deva\",\n",
    "    \"Santali\": \"sat_Olck\",\n",
    "    \"Sicilian\": \"scn_Latn\",\n",
    "    \"Shan\": \"shn_Mymr\",\n",
    "    \"Sinhala\": \"sin_Sinh\",\n",
    "    \"Slovak\": \"slk_Latn\",\n",
    "    \"Slovenian\": \"slv_Latn\",\n",
    "    \"Samoan\": \"smo_Latn\",\n",
    "    \"Shona\": \"sna_Latn\",\n",
    "    \"Sindhi\": \"snd_Arab\",\n",
    "    \"Somali\": \"som_Latn\",\n",
    "    \"Southern Sotho\": \"sot_Latn\",\n",
    "    \"Spanish\": \"spa_Latn\",\n",
    "    \"Tosk Albanian\": \"als_Latn\",\n",
    "    \"Sardinian\": \"srd_Latn\",\n",
    "    \"Serbian\": \"srp_Cyrl\",\n",
    "    \"Swati\": \"ssw_Latn\",\n",
    "    \"Sundanese\": \"sun\"\n",
    "}"
   ]
  },
  {
   "cell_type": "code",
   "execution_count": 47,
   "id": "3a95b2d4",
   "metadata": {},
   "outputs": [
    {
     "name": "stderr",
     "output_type": "stream",
     "text": [
      "Device set to use cpu\n"
     ]
    }
   ],
   "source": [
    "texto_esp_pt = traduzir_texto(texto_espanhol_pt,  codigos_linguagens['Spanish'], codigos_linguagens['Portuguese'])"
   ]
  },
  {
   "cell_type": "code",
   "execution_count": 48,
   "id": "17832dd6",
   "metadata": {},
   "outputs": [
    {
     "name": "stdout",
     "output_type": "stream",
     "text": [
      "A Capcom queria um redesenho em gráficos e controle como o Mega Man A série passou da NES para a SNES, o que impulsionou a criação da Mega Man X série em 1993. Ambientada anos no futuro, esta série segue a história do sucessor de Mega Man, X, um robô novo e avançado que tem total livre arbítrio sobre suas ações, pensamentos e sentimentos. \n"
     ]
    }
   ],
   "source": [
    "print(texto_esp_pt)  # Exibe a tradução do texto em espanhol para português"
   ]
  },
  {
   "cell_type": "markdown",
   "id": "81388c80",
   "metadata": {},
   "source": [
    "Unindo modelos de resumo e traducao"
   ]
  },
  {
   "cell_type": "code",
   "execution_count": null,
   "id": "2c4bea67",
   "metadata": {},
   "outputs": [],
   "source": [
    "# carregar modelos de resumo e tradução\n",
    "# Função para carregar o modelo de resumo e tradução com parâmetros de origem e destino\n",
    "def carregar_modelos_trad_resumo(modelo_resumo, modelo_trad, ling_origem, ling_final):\n",
    "    resumidor = pipeline(\"summarization\", model=modelo_resumo)\n",
    "    tradutor = pipeline(\"translation\", model=modelo_trad, src_lang=ling_origem, tgt_lang=ling_final)\n",
    "    return resumidor, tradutor"
   ]
  },
  {
   "cell_type": "code",
   "execution_count": 53,
   "id": "6d9523d4",
   "metadata": {},
   "outputs": [],
   "source": [
    "# funcao para resumir e traduzir texto\n",
    "def resumir_traduzir_texto_en_pt(texto):\n",
    "    ling_orgiem = codigos_linguagens['English']\n",
    "    ling_final = codigos_linguagens['Portuguese']\n",
    "\n",
    "    modelo_resumo = \"facebook/bart-large-cnn\"\n",
    "    modelo_trad = \"facebook/nllb-200-distilled-600M\"\n",
    "\n",
    "    resumidor_texto, tradutor_texto = carregar_modelos_trad_resumo(modelo_resumo, modelo_trad, ling_orgiem, ling_final)\n",
    "\n",
    "    # Resumindo o texto\n",
    "    reusmo = resumidor_texto(texto, max_length=200, min_length=100)\n",
    "    resumo_texto = reusmo[0]['summary_text']\n",
    "\n",
    "    # Traduzindo o texto\n",
    "    traducao = tradutor_texto(resumo_texto, max_length=400)\n",
    "    traducao_resumo_texto = traducao[0]['translation_text']\n",
    "\n",
    "    return traducao_resumo_texto"
   ]
  },
  {
   "cell_type": "code",
   "execution_count": 56,
   "id": "b092dbb3",
   "metadata": {},
   "outputs": [],
   "source": [
    "texto_eng_pt = \"\"\"\n",
    "Capcom wanted a redesign in graphics and control as the Mega Man series moved from the NES to the SNES, prompting the creation of the Mega Man X series in 1993. \n",
    "Set years in the future, this series follows the story of Mega Man's successor, X, a new, advanced robot that has complete free will over his actions, thoughts and feelings. \n",
    "This character, also a creation of Dr. Light, was put into suspended animation and uncovered 100 years in the future by a researcher named Dr. Cain. \n",
    "The Mega Man X series features more detailed 16-bit graphics and greater freedom of movement. In the Mega Man X series, the characters grow in abilities and power as the game progresses. \n",
    "While the gameplay loop and combat is largely similar to the Classic Mega Man series, Mega Man X series differs from its increased emphasis on mobility, with X being able to dash and \n",
    "reach higher places through the use of his various armors gained throughout the games, as well as its more mature story than its predecessor.\n",
    "\n",
    "As the series progressed, various other player characters have appeared, such as fellow Maverick Hunter Zero who was created by Dr. Wily of the Classic series, and Axl, \n",
    "a Reploid with an adolescent personality who has the ability to shape-shift into other Reploids. Zero would later star in his own spin-off series, Mega Man Zero.\n",
    "\n",
    "The series was originally intended to conclude with Mega Man X5, which will lead to the Mega Man Zero series, however, as Inafune began work on the Zero series, \n",
    "its storyline was continued without his supervision, with three additional installments (Mega Man X6, Mega Man X7, Mega Man X8), releasing in 2001, 2003, and 2004 respectively, \n",
    "causing confusion in the games' official timeline. Mega Man X8 ended with a cliffhanger, leaving the series to not have a conclusion.\n",
    "\"\"\""
   ]
  },
  {
   "cell_type": "code",
   "execution_count": 57,
   "id": "b29bb809",
   "metadata": {},
   "outputs": [
    {
     "name": "stderr",
     "output_type": "stream",
     "text": [
      "Device set to use cpu\n",
      "Device set to use cpu\n"
     ]
    }
   ],
   "source": [
    "\n",
    "# Exibe o resumo traduzido do texto em inglês para português\n",
    "resultado = resumir_traduzir_texto_en_pt(texto_eng_pt)\n"
   ]
  },
  {
   "cell_type": "code",
   "execution_count": 58,
   "id": "94b9fc45",
   "metadata": {},
   "outputs": [
    {
     "name": "stdout",
     "output_type": "stream",
     "text": [
      "A série Mega Man X apresenta gráficos mais detalhados de 16 bits e maior liberdade de movimento. Ele segue a história do sucessor de Mega Man, X, um novo robô avançado que tem total livre arbítrio sobre suas ações, pensamentos e sentimentos. Três parcelas adicionais foram lançadas em 2001, 2003 e 2004, respectivamente, causando confusão na linha de tempo oficial dos jogos. A série foi originalmente destinada a concluir com Mega Man X5, o que levará à série MegaMan Zero, no entanto, como Inafune começou a trabalhar na série Zero.\n"
     ]
    }
   ],
   "source": [
    "print(resultado)  # Exibe o resultado da função de resumo e tradução"
   ]
  },
  {
   "cell_type": "code",
   "execution_count": 59,
   "id": "4abea775",
   "metadata": {},
   "outputs": [],
   "source": [
    "resultado = \"\"\"\n",
    "A série Mega Man X apresenta gráficos mais detalhados de 16 bits e maior liberdade de movimento. \n",
    "Ele segue a história do sucessor de Mega Man, X, um novo robô avançado que tem total livre arbítrio sobre suas ações, pensamentos e sentimentos. \n",
    "Três parcelas adicionais foram lançadas em 2001, 2003 e 2004, respectivamente, causando confusão na linha de tempo oficial dos jogos.\n",
    " A série foi originalmente destinada a concluir com Mega Man X5, o que levará à série MegaMan Zero, no entanto, como Inafune começou a trabalhar na série Zero.\n",
    "\"\"\""
   ]
  }
 ],
 "metadata": {
  "kernelspec": {
   "display_name": "Python 3",
   "language": "python",
   "name": "python3"
  },
  "language_info": {
   "codemirror_mode": {
    "name": "ipython",
    "version": 3
   },
   "file_extension": ".py",
   "mimetype": "text/x-python",
   "name": "python",
   "nbconvert_exporter": "python",
   "pygments_lexer": "ipython3",
   "version": "3.11.9"
  }
 },
 "nbformat": 4,
 "nbformat_minor": 5
}
