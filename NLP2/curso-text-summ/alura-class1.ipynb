{
 "cells": [
  {
   "cell_type": "markdown",
   "id": "3fd1de56",
   "metadata": {},
   "source": [
    "1. Curso voltado para tecnicas de sumarização de texto com hugging face e outras tecnicas"
   ]
  },
  {
   "cell_type": "markdown",
   "id": "a6114b6a",
   "metadata": {},
   "source": []
  }
 ],
 "metadata": {
  "language_info": {
   "name": "python"
  }
 },
 "nbformat": 4,
 "nbformat_minor": 5
}
