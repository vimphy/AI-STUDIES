{
 "cells": [
  {
   "cell_type": "markdown",
   "id": "3fd1de56",
   "metadata": {},
   "source": [
    "1. Curso voltado para tecnicas de sumarização de texto com hugging face e outras tecnicas"
   ]
  },
  {
   "cell_type": "markdown",
   "id": "839c78d1",
   "metadata": {},
   "source": [
    "Hugging face disponibilza bibliotecas focadas em NLP, sendo algumas delas focadas em sumariacao e traducao de textos. \n",
    "O curso propoe o uso da biblioteca gradio, como principal facilitados para o implementação desse tipo de solução   "
   ]
  },
  {
   "cell_type": "markdown",
   "id": "bf389827",
   "metadata": {},
   "source": [
    "Começando a resumir textos."
   ]
  },
  {
   "cell_type": "code",
   "execution_count": 3,
   "id": "45cea3b8",
   "metadata": {},
   "outputs": [
    {
     "name": "stderr",
     "output_type": "stream",
     "text": [
      "C:\\Users\\vimph\\AppData\\Local\\Packages\\PythonSoftwareFoundation.Python.3.11_qbz5n2kfra8p0\\LocalCache\\local-packages\\Python311\\site-packages\\tqdm\\auto.py:21: TqdmWarning: IProgress not found. Please update jupyter and ipywidgets. See https://ipywidgets.readthedocs.io/en/stable/user_install.html\n",
      "  from .autonotebook import tqdm as notebook_tqdm\n"
     ]
    }
   ],
   "source": [
    "from transformers import pipeline\n",
    "import torch"
   ]
  },
  {
   "cell_type": "code",
   "execution_count": 6,
   "id": "efef8197",
   "metadata": {},
   "outputs": [
    {
     "name": "stdout",
     "output_type": "stream",
     "text": [
      "The autoreload extension is already loaded. To reload it, use:\n",
      "  %reload_ext autoreload\n"
     ]
    }
   ],
   "source": [
    "%load_ext autoreload\n",
    "%autoreload 2\n",
    "%reload_ext autoreload"
   ]
  },
  {
   "cell_type": "markdown",
   "id": "fe60cab3",
   "metadata": {},
   "source": [
    "A função pipeline importada será possivel acessar modelos pre treinados do hugging face."
   ]
  },
  {
   "cell_type": "code",
   "execution_count": 8,
   "id": "59dca9c5",
   "metadata": {},
   "outputs": [
    {
     "name": "stderr",
     "output_type": "stream",
     "text": [
      "C:\\Users\\vimph\\AppData\\Local\\Packages\\PythonSoftwareFoundation.Python.3.11_qbz5n2kfra8p0\\LocalCache\\local-packages\\Python311\\site-packages\\huggingface_hub\\file_download.py:143: UserWarning: `huggingface_hub` cache-system uses symlinks by default to efficiently store duplicated files but your machine does not support them in C:\\Users\\vimph\\.cache\\huggingface\\hub\\models--sshleifer--distilbart-cnn-12-6. Caching files will still work but in a degraded version that might require more space on your disk. This warning can be disabled by setting the `HF_HUB_DISABLE_SYMLINKS_WARNING` environment variable. For more details, see https://huggingface.co/docs/huggingface_hub/how-to-cache#limitations.\n",
      "To support symlinks on Windows, you either need to activate Developer Mode or to run Python as an administrator. In order to activate developer mode, see this article: https://docs.microsoft.com/en-us/windows/apps/get-started/enable-your-device-for-development\n",
      "  warnings.warn(message)\n",
      "Device set to use cpu\n"
     ]
    }
   ],
   "source": [
    "\n",
    "# Define o pipeline de resumidor de texto com o modelo pré-treinado\n",
    "# O modelo \"sshleifer/distilbart-cnn-12-6\" é um modelo de resumo de texto\n",
    "# que foi treinado no conjunto de dados CNN/Daily Mail.\n",
    "summarizer = pipeline(\"summarization\", model=\"sshleifer/distilbart-cnn-12-6\")\n"
   ]
  },
  {
   "cell_type": "code",
   "execution_count": 9,
   "id": "4566d3ab",
   "metadata": {},
   "outputs": [],
   "source": [
    "texto_completo = \"\"\"The storyteller folds her slender hands - both pairs - and speaks. “It happened an age ago. But when I recall, I see it true.” So begins the tale of the Shattering, a devastating war between the children of Marika, Demigods of the Lands Between. One grim night in the depths of winter, a flock of unknown assassins stole across the Lands Between. \n",
    "They struck at the heart of the Golden Order, the God-Queen Marika's divine rule, and assassinated her most trusted kin. The assassins were led by Rykard, Lord of Blasphemy, and Morgott, the Omen King, who had long been a thorn in the side of the God-Queen. Their attack was swift and brutal, leaving a trail of death and destruction in their wake.\n",
    "In a coetaneous attack, this foul covenant snuffed out the lives of many of the God-Queen's kin throughout the empire, too numerous and too scattered for her godly protection to save. The assassins' targets were multifold, but none was as devastating a loss to the Eternal Queen as that of Godwyn the Golden. After his death, the Elden Ring was somehow shattered, and the order of the world broke with it.\n",
    "Out of this chaos came war. Open, bitter war, pitting blood against blood and kin against kin. The conflict broke a vast and prosperous empire into brittle fragments. No single side could find enough purchase to maintain a decisive victory, even when fueled by the power of a Great Rune.\n",
    "The battle of General Radahn against Malenia the Severed illustrated that neither strength nor skill alone would be enough to take control of the entirety of the lands Marika had united. And so, the Lands Between are no longer gripped by open war, but caught in an uneasy stalemate that seems impossible to resolve. “Unless of course,” the storyteller says, a coy smile on both her lips, “thou shouldst take the crown?” \n",
    "The storyteller's smile widens, and she leans forward. “But I am getting ahead of myself. Let us begin at the beginning.”\"\"\""
   ]
  },
  {
   "cell_type": "code",
   "execution_count": 10,
   "id": "505d7104",
   "metadata": {},
   "outputs": [],
   "source": [
    "# Resumindo o texto\n",
    "# O parâmetro max_length define o tamanho máximo do resumo\n",
    "# O parâmetro min_length define o tamanho mínimo do resumo\n",
    "# O parâmetro do_sample=False garante que o resumo seja determinístico\n",
    "resumo = summarizer(texto_completo, max_length=130, min_length=30, do_sample=False)"
   ]
  },
  {
   "cell_type": "code",
   "execution_count": 11,
   "id": "531f0505",
   "metadata": {},
   "outputs": [
    {
     "data": {
      "text/plain": [
       "[{'summary_text': \" A flock of unknown assassins struck at the heart of the Golden Order, the God-Queen Marika's divine rule . The assassins were led by Rykard, Lord of Blasphemy, and Morgott, the Omen King . After his death, the Elden Ring was somehow shattered, and the order of the world broke .\"}]"
      ]
     },
     "execution_count": 11,
     "metadata": {},
     "output_type": "execute_result"
    }
   ],
   "source": [
    "resumo"
   ]
  },
  {
   "cell_type": "code",
   "execution_count": 12,
   "id": "aea04809",
   "metadata": {},
   "outputs": [
    {
     "name": "stdout",
     "output_type": "stream",
     "text": [
      " A flock of unknown assassins struck at the heart of the Golden Order, the God-Queen Marika's divine rule . The assassins were led by Rykard, Lord of Blasphemy, and Morgott, the Omen King . After his death, the Elden Ring was somehow shattered, and the order of the world broke .\n"
     ]
    }
   ],
   "source": [
    "print(resumo[0]['summary_text'])  # Exibe o resumo gerado\n",
    "# O resumo gerado é exibido na saída padrão e pode ser utilizado para análise ou visualização posterior."
   ]
  },
  {
   "cell_type": "code",
   "execution_count": 13,
   "id": "4859ad6d",
   "metadata": {},
   "outputs": [],
   "source": [
    "texto_completo_ptbr = \"\"\"\n",
    "Tudo começou em 2003, quando o Sidia era uma pequena unidade localizada no Distrito Industrial de Manaus. Já naquela época, Stakeholders viram no instituto um grande potencial de inovação e talentos com expertise para assumir desafios ousados.\n",
    "Mais projetos chegaram com a promessa de romper com o tradicional e criar uma cultura tecnológica disruptiva bem no meio da Amazônia, aumentando, assim, suas competências técnicas.\n",
    "Os desafios foram aceitos e entregues com base em estudos e pesquisas científicas, seguindo todos os padrões internacionais de qualidade.\n",
    "Atualmente, somos um dos maiores institutos de PD&I do país e responsável por implementar soluções tecnológicas inovadoras para o mercado local e global. \n",
    "Nos tornamos referência no desenvolvimento de tecnologias focadas em 5G, IoT, Inteligência Artificial, VR/AR, Softwares Embarcados, Automação Industrial, Visão Computacional, entre outros. \n",
    "Além disso, temos os equipamentos mais modernos do mercado que nos tornam um diferencial competitivo no mundo. \n",
    "Com duas sedes em Manaus (AM), uma em Porto Velho (RO) e uma em São Paulo (SP), o time do Sidia é formado por mais de 1.000 profissionais engajados com a inovação, \n",
    "composto por especialistas de diferentes formações intelectuais e culturais, além de infraestrutura de ponta. Atendemos aos setores de Eletroeletrônicos, Saúde, Varejo,\n",
    " Educação, Mineração, Óleo e Gás, Utilities, Entretenimento, Indústria e outros.\n",
    "\"\"\""
   ]
  },
  {
   "cell_type": "code",
   "execution_count": 14,
   "id": "e513b3af",
   "metadata": {},
   "outputs": [
    {
     "name": "stdout",
     "output_type": "stream",
     "text": [
      " The time do Sidia is one of the maiores institutos de PD&I do Brazil, responsável por implementar soluções tecnológicas inovadoras for o mercado local e global . Não tornamos referência no desenvolvimento de tecnologias focadas em 5G, VR/AR, IoT, Inteligênia Artificial, Softwares Embarcados .\n"
     ]
    }
   ],
   "source": [
    "resumo = summarizer(texto_completo_ptbr, max_length=130, min_length=30, do_sample=False)\n",
    "print(resumo[0]['summary_text'])  # Exibe o resumo gerado\n",
    "# O resumo gerado é exibido na saída padrão e pode ser utilizado para análise ou visual ização posterior."
   ]
  },
  {
   "cell_type": "markdown",
   "id": "dc7ca760",
   "metadata": {},
   "source": [
    "2. Aprendendo a traduçao de textos com hugging face"
   ]
  },
  {
   "cell_type": "code",
   "execution_count": 15,
   "id": "44d53122",
   "metadata": {},
   "outputs": [
    {
     "name": "stderr",
     "output_type": "stream",
     "text": [
      "No model was supplied, defaulted to google-t5/t5-base and revision a9723ea (https://huggingface.co/google-t5/t5-base).\n",
      "Using a pipeline without specifying a model name and revision in production is not recommended.\n",
      "C:\\Users\\vimph\\AppData\\Local\\Packages\\PythonSoftwareFoundation.Python.3.11_qbz5n2kfra8p0\\LocalCache\\local-packages\\Python311\\site-packages\\huggingface_hub\\file_download.py:143: UserWarning: `huggingface_hub` cache-system uses symlinks by default to efficiently store duplicated files but your machine does not support them in C:\\Users\\vimph\\.cache\\huggingface\\hub\\models--google-t5--t5-base. Caching files will still work but in a degraded version that might require more space on your disk. This warning can be disabled by setting the `HF_HUB_DISABLE_SYMLINKS_WARNING` environment variable. For more details, see https://huggingface.co/docs/huggingface_hub/how-to-cache#limitations.\n",
      "To support symlinks on Windows, you either need to activate Developer Mode or to run Python as an administrator. In order to activate developer mode, see this article: https://docs.microsoft.com/en-us/windows/apps/get-started/enable-your-device-for-development\n",
      "  warnings.warn(message)\n",
      "Xet Storage is enabled for this repo, but the 'hf_xet' package is not installed. Falling back to regular HTTP download. For better performance, install the package with: `pip install huggingface_hub[hf_xet]` or `pip install hf_xet`\n",
      "Device set to use cpu\n"
     ]
    }
   ],
   "source": [
    "tradutor_texto = pipeline(\"translation_en_to_fr\")\n"
   ]
  },
  {
   "cell_type": "code",
   "execution_count": 17,
   "id": "ec348e0f",
   "metadata": {},
   "outputs": [],
   "source": [
    "texto_ingles = \"\"\"\n",
    "The Ultimate Fighting Championship (UFC) is an American mixed martial arts (MMA) promotion company, considered the largest in the world. \n",
    "It hosts numerous events worldwide, featuring fighters from various weight classes competing under the Unified Rules of Mixed Martial Arts. \n",
    "The UFC is owned by TKO Group Holdings, which is in turn majority owned by Endeavor Group Holdings. \n",
    "\"\"\""
   ]
  },
  {
   "cell_type": "code",
   "execution_count": 18,
   "id": "6d102b53",
   "metadata": {},
   "outputs": [
    {
     "name": "stderr",
     "output_type": "stream",
     "text": [
      "Both `max_new_tokens` (=256) and `max_length`(=400) seem to have been set. `max_new_tokens` will take precedence. Please refer to the documentation for more information. (https://huggingface.co/docs/transformers/main/en/main_classes/text_generation)\n"
     ]
    },
    {
     "name": "stdout",
     "output_type": "stream",
     "text": [
      "Le Ultimate Fighting Championship (UFC) est une entreprise américaine de promotion des arts martiaux mixtes (MMA), considérée comme la plus importante au monde. Il accueille de nombreuses manifestations dans le monde entier, mettant en compétition des combattants de différentes classes de poids dans le cadre des Règles Unifiées des Arts Martials Mixtes. L'UFC appartient à TKO Group Holdings, qui est à son tour la majorité de Endeavor Group Holdings.\n"
     ]
    }
   ],
   "source": [
    "traducao = tradutor_texto(texto_ingles, max_length=400, min_length=100)\n",
    "print(traducao[0]['translation_text'])  \n",
    "\n",
    "# Exibe a tradução gerada\n",
    "# A tradução gerada é exibida na saída padrão e pode ser utilizada para análise ou visualização posterior.\n",
    "# O modelo de tradução utilizado é o \"Helsinki-NLP/opus-mt-en-fr\", que é um modelo de tradução treinado pela equipe Helsinki-NLP.\n",
    "# O modelo é capaz de traduzir textos do inglês para o francês, e pode ser utilizado para traduzir textos de outros idiomas também, dependendo do modelo utilizado.\n",
    "# O pipeline de tradução é uma ferramenta poderosa para traduzir textos de forma rápida e eficiente."
   ]
  },
  {
   "cell_type": "markdown",
   "id": "9287bfdf",
   "metadata": {},
   "source": [
    "Le Ultimate Fighting Championship (UFC) est une entreprise américaine de promotion des arts martiaux mixtes (MMA), considérée comme la plus importante au monde. Il accueille de nombreuses manifestations dans le monde entier, mettant en compétition des combattants de différentes classes de poids dans le cadre des Règles Unifiées des Arts Martials Mixtes. L'UFC appartient à TKO Group Holdings, qui est à son tour la majorité de Endeavor Group Holdings."
   ]
  }
 ],
 "metadata": {
  "kernelspec": {
   "display_name": "Python 3",
   "language": "python",
   "name": "python3"
  },
  "language_info": {
   "codemirror_mode": {
    "name": "ipython",
    "version": 3
   },
   "file_extension": ".py",
   "mimetype": "text/x-python",
   "name": "python",
   "nbconvert_exporter": "python",
   "pygments_lexer": "ipython3",
   "version": "3.11.9"
  }
 },
 "nbformat": 4,
 "nbformat_minor": 5
}
